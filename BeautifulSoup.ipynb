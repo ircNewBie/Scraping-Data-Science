{
 "cells": [
  {
   "cell_type": "code",
   "execution_count": 2,
   "metadata": {},
   "outputs": [],
   "source": [
    "import bs4\n",
    "from bs4 import BeautifulSoup as soup"
   ]
  },
  {
   "cell_type": "code",
   "execution_count": 3,
   "metadata": {},
   "outputs": [],
   "source": [
    "from requests import get"
   ]
  },
  {
   "cell_type": "code",
   "execution_count": 81,
   "metadata": {},
   "outputs": [],
   "source": [
    "def get_data():\n",
    "    url = 'https://unicode.org/emoji/charts/full-emoji-list.html'\n",
    "    response = get(url)\n",
    "    html_soup = soup(response.text, 'html.parser')\n",
    "    \n",
    "    #Get the fields container \n",
    "    code_containers = html_soup.table.find_all(\"td\",class_ = 'code')\n",
    "    name_containers = html_soup.table.find_all(\"td\",class_ = 'name')\n",
    "    rchars_container = html_soup.table.find_all(\"td\",class_ = 'rchars')   \n",
    "    \n",
    "    #Create a dictionary to hold the data\n",
    "    emoj_dict = dict()\n",
    "    \n",
    "    #Propagate the emoj data to dictionary\n",
    "    for emoj in range(len(code_containers)):\n",
    "        #Get fields' data\n",
    "        emoj_name = name_containers[emoj].text\n",
    "        emoj_code = code_containers[emoj].text\n",
    "        emoj_rchars = rchars_container[emoj].text\n",
    "        emoj_dict[emoj_code] = emoj_name\n",
    "        \n",
    "        \n",
    "    #Done creating the dictionary\n",
    "    return emoj_dict"
   ]
  },
  {
   "cell_type": "code",
   "execution_count": 82,
   "metadata": {},
   "outputs": [],
   "source": [
    "emoj_dict = get_data()"
   ]
  },
  {
   "cell_type": "code",
   "execution_count": 83,
   "metadata": {},
   "outputs": [],
   "source": [
    "#import the pandas library and aliasing as pd\n",
    "import pandas as pd\n",
    "\n",
    "#convert dictionary to dataframe\n",
    "data = emoj_dict"
   ]
  },
  {
   "cell_type": "code",
   "execution_count": 84,
   "metadata": {},
   "outputs": [],
   "source": [
    "df = pd.DataFrame(list(data.items()), columns=['Emoj Code', 'Emoj Name']) "
   ]
  },
  {
   "cell_type": "code",
   "execution_count": 85,
   "metadata": {},
   "outputs": [
    {
     "data": {
      "text/html": [
       "<div>\n",
       "<style scoped>\n",
       "    .dataframe tbody tr th:only-of-type {\n",
       "        vertical-align: middle;\n",
       "    }\n",
       "\n",
       "    .dataframe tbody tr th {\n",
       "        vertical-align: top;\n",
       "    }\n",
       "\n",
       "    .dataframe thead th {\n",
       "        text-align: right;\n",
       "    }\n",
       "</style>\n",
       "<table border=\"1\" class=\"dataframe\">\n",
       "  <thead>\n",
       "    <tr style=\"text-align: right;\">\n",
       "      <th></th>\n",
       "      <th>Emoj Code</th>\n",
       "      <th>Emoj Name</th>\n",
       "    </tr>\n",
       "  </thead>\n",
       "  <tbody>\n",
       "    <tr>\n",
       "      <td>0</td>\n",
       "      <td>U+1F600</td>\n",
       "      <td>grinning face</td>\n",
       "    </tr>\n",
       "    <tr>\n",
       "      <td>1</td>\n",
       "      <td>U+1F603</td>\n",
       "      <td>grinning face with big eyes</td>\n",
       "    </tr>\n",
       "    <tr>\n",
       "      <td>2</td>\n",
       "      <td>U+1F604</td>\n",
       "      <td>grinning face with smiling eyes</td>\n",
       "    </tr>\n",
       "    <tr>\n",
       "      <td>3</td>\n",
       "      <td>U+1F601</td>\n",
       "      <td>beaming face with smiling eyes</td>\n",
       "    </tr>\n",
       "    <tr>\n",
       "      <td>4</td>\n",
       "      <td>U+1F606</td>\n",
       "      <td>grinning squinting face</td>\n",
       "    </tr>\n",
       "    <tr>\n",
       "      <td>...</td>\n",
       "      <td>...</td>\n",
       "      <td>...</td>\n",
       "    </tr>\n",
       "    <tr>\n",
       "      <td>1804</td>\n",
       "      <td>U+1F1FF U+1F1F2</td>\n",
       "      <td>flag: Zambia</td>\n",
       "    </tr>\n",
       "    <tr>\n",
       "      <td>1805</td>\n",
       "      <td>U+1F1FF U+1F1FC</td>\n",
       "      <td>flag: Zimbabwe</td>\n",
       "    </tr>\n",
       "    <tr>\n",
       "      <td>1806</td>\n",
       "      <td>U+1F3F4 U+E0067 U+E0062 U+E0065 U+E006E U+E006...</td>\n",
       "      <td>flag: England</td>\n",
       "    </tr>\n",
       "    <tr>\n",
       "      <td>1807</td>\n",
       "      <td>U+1F3F4 U+E0067 U+E0062 U+E0073 U+E0063 U+E007...</td>\n",
       "      <td>flag: Scotland</td>\n",
       "    </tr>\n",
       "    <tr>\n",
       "      <td>1808</td>\n",
       "      <td>U+1F3F4 U+E0067 U+E0062 U+E0077 U+E006C U+E007...</td>\n",
       "      <td>flag: Wales</td>\n",
       "    </tr>\n",
       "  </tbody>\n",
       "</table>\n",
       "<p>1809 rows × 2 columns</p>\n",
       "</div>"
      ],
      "text/plain": [
       "                                              Emoj Code  \\\n",
       "0                                               U+1F600   \n",
       "1                                               U+1F603   \n",
       "2                                               U+1F604   \n",
       "3                                               U+1F601   \n",
       "4                                               U+1F606   \n",
       "...                                                 ...   \n",
       "1804                                    U+1F1FF U+1F1F2   \n",
       "1805                                    U+1F1FF U+1F1FC   \n",
       "1806  U+1F3F4 U+E0067 U+E0062 U+E0065 U+E006E U+E006...   \n",
       "1807  U+1F3F4 U+E0067 U+E0062 U+E0073 U+E0063 U+E007...   \n",
       "1808  U+1F3F4 U+E0067 U+E0062 U+E0077 U+E006C U+E007...   \n",
       "\n",
       "                            Emoj Name  \n",
       "0                       grinning face  \n",
       "1         grinning face with big eyes  \n",
       "2     grinning face with smiling eyes  \n",
       "3      beaming face with smiling eyes  \n",
       "4             grinning squinting face  \n",
       "...                               ...  \n",
       "1804                     flag: Zambia  \n",
       "1805                   flag: Zimbabwe  \n",
       "1806                    flag: England  \n",
       "1807                   flag: Scotland  \n",
       "1808                      flag: Wales  \n",
       "\n",
       "[1809 rows x 2 columns]"
      ]
     },
     "execution_count": 85,
     "metadata": {},
     "output_type": "execute_result"
    }
   ],
   "source": [
    "df"
   ]
  },
  {
   "cell_type": "code",
   "execution_count": 86,
   "metadata": {},
   "outputs": [],
   "source": [
    "df.to_csv (r'D:\\kingsoft\\emoj_dataframe.csv', \n",
    "                        index = None, header=True) #Don't forget to add '.csv' at the end of the path\n"
   ]
  }
 ],
 "metadata": {
  "kernelspec": {
   "display_name": "Python 3",
   "language": "python",
   "name": "python3"
  },
  "language_info": {
   "codemirror_mode": {
    "name": "ipython",
    "version": 3
   },
   "file_extension": ".py",
   "mimetype": "text/x-python",
   "name": "python",
   "nbconvert_exporter": "python",
   "pygments_lexer": "ipython3",
   "version": "3.7.4"
  }
 },
 "nbformat": 4,
 "nbformat_minor": 2
}
